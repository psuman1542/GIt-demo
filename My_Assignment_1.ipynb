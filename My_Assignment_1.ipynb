{
  "nbformat": 4,
  "nbformat_minor": 0,
  "metadata": {
    "colab": {
      "provenance": [],
      "authorship_tag": "ABX9TyPfeVskaXkeDUbN5oC3wvD7",
      "include_colab_link": true
    },
    "kernelspec": {
      "name": "python3",
      "display_name": "Python 3"
    },
    "language_info": {
      "name": "python"
    }
  },
  "cells": [
    {
      "cell_type": "markdown",
      "metadata": {
        "id": "view-in-github",
        "colab_type": "text"
      },
      "source": [
        "<a href=\"https://colab.research.google.com/github/psuman1542/GIt-demo/blob/main/My_Assignment_1.ipynb\" target=\"_parent\"><img src=\"https://colab.research.google.com/assets/colab-badge.svg\" alt=\"Open In Colab\"/></a>"
      ]
    },
    {
      "cell_type": "markdown",
      "source": [
        "**1 . What is linux?**\n",
        "\n",
        "  Linux is a Unix like Open Source Operating System(OS). It was developed by Linus Torvalds in 1991 & first version of Linux kernel was released on September 17. The kernel is the core central program in Linux OS that manages communication between hardware and software. Kernel handles low-level tasks like processes, memory and device management. Everything in Linux OS is built upon kernal that includes utilities, system libraries & device drivers. Linux is very versatile and is widely used in cloud servers, web hosting and supercomputers. It also served as the foundation of Android OS running on smartphones. Linux is highly customizable. It offers a lot of flexibility & control to its users. It has wide variety of customizable versions called Linux Distributions (e.g. Ubuntu, Arch, Fedora etc.), each offering different default softwares & tools."
      ],
      "metadata": {
        "id": "NsFgK2TeGPXa"
      }
    },
    {
      "cell_type": "markdown",
      "metadata": {
        "id": "261a533c"
      },
      "source": [
        "**2. What is the difference between Hard Link & Soft Link?**\n",
        "\n",
        "**Hard Link:**\n",
        "*   A hard link is a direct reference to the inode of a file.\n",
        "*   Multiple hard links can point to the same inode.\n",
        "*   If you delete the original file, the hard link still works because it points to the data itself, not the filename.\n",
        "*   Hard links can only be created within the same file system.\n",
        "*   They cannot link to directories.\n",
        "\n",
        "**Soft Link (or Symbolic Link):**\n",
        "*   A soft link is a pointer to the path of a file or directory.\n",
        "*   It's similar to a shortcut in Windows.\n",
        "*   If you delete the original file, the soft link will be broken (dangling) because the path it points to no longer exists.\n",
        "*   Soft links can link to files or directories across different file systems.\n",
        "*   They can also link to directories."
      ]
    },
    {
      "cell_type": "markdown",
      "metadata": {
        "id": "d0f4f8bc"
      },
      "source": [
        "**3. What is a Kernel in Linux?**\n",
        "\n",
        "The Kernel is the core central program in the Linux Operating System. It manages communication between hardware and software, handling low-level tasks such as process management, memory management, and device management. Everything in the Linux OS is built upon the Kernel, including utilities, system libraries, and device drivers."
      ]
    },
    {
      "cell_type": "markdown",
      "source": [
        "**4. How do you create a user account?**\n",
        "\n",
        "To create a user account in linux we use a command known as \"useradd\". Steps to create a user account:\n",
        "\n",
        "  1. Open a terminal to access your CLI(command-line interface).\n",
        "  2. run command - \"sudo useradd -m username\" - Use your own username in place of \"username\" & note that useradd command requires root privileges to execute. So always use \"sudo\" or switch to root user. Using \"-m\" is optional as it creates a home directory for new user.\n",
        "  3. run command - \"sudo passwd username\" - You will be prompted to enter & confirm the password for new user. A newly created user account is initially locked until a password is set.\n",
        "  4. run command - \"id username\" - Verify user creation by executing this command. This will display information about the newly created user, including their UID, GID, and group memberships.\n",
        "\n",
        "\n"
      ],
      "metadata": {
        "id": "0vVc3Ek3xAPO"
      }
    },
    {
      "cell_type": "markdown",
      "metadata": {
        "id": "ad3e41a7"
      },
      "source": [
        "**5. What is the ‘grep’ command used for in Linux?**\n",
        "\n",
        "The grep command (short for \"global regular expression print\") is a command-line utility in Linux used for searching plain-text data sets for lines that match a regular expression. It's a very useful tool for finding specific patterns or strings within files or output from other commands.\n",
        "\n",
        "Here are some common uses:\n",
        "\n",
        "* -r: \"grep\" can search for patterns within files across multiple directories and subdirectories.\n",
        "* -c: This option allows users to count the number of lines that contain the matching pattern.\n",
        "* -i: This option allows for searches that are not sensitive to letter case.\n",
        "* -w: This option ensures that only exact word matches are returned, preventing matches where the pattern is part of a larger word.\n",
        "* -v: The command in Linux is used to invert the match of a pattern. Instead of printing lines that match the specified pattern, it prints all lines that do not match the pattern.\n",
        "\n",
        "You can also combine grep with other commands using pipes (|) to filter output. For example, ls -l | grep .txt` would list only the files ending with .txt. The \"grep\" command provides different options for various functionalities to user.\n"
      ]
    },
    {
      "cell_type": "markdown",
      "source": [
        "**6. Step1: Create user p1**\n",
        "\n",
        "  **Step2: He should be part of 3 groups g1,g2,g3.**\n",
        "\n",
        "  **Step3: whenever he creates a file automatically in the group section of file grp g1 should come.**"
      ],
      "metadata": {
        "id": "M3jx6I6F5jxO"
      }
    },
    {
      "cell_type": "code",
      "source": [
        "psuman@Suman:~$ sudo groupadd g1\n",
        "psuman@Suman:~$ sudo groupadd g2\n",
        "psuman@Suman:~$ sudo groupadd g3\n",
        "psuman@Suman:~$ sudo useradd -m -G g1,g2,g3 p1\n",
        "psuman@Suman:~$ sudo passwd p1\n",
        "New password:\n",
        "Retype new password:\n",
        "passwd: password updated successfully\n",
        "psuman@Suman:~$ id p1\n",
        "uid=1006(p1) gid=1009(p1) groups=1009(p1),1006(g1),1007(g2),1008(g3)\n",
        "psuman@Suman:~$ sudo usermod -g g1 p1\n",
        "psuman@Suman:~$ id p1\n",
        "uid=1006(p1) gid=1006(g1) groups=1006(g1),1007(g2),1008(g3)\n",
        "psuman@Suman:~$ su - p1\n",
        "Password:\n",
        "Welcome to Ubuntu 24.04.3 LTS (GNU/Linux 6.6.87.2-microsoft-standard-WSL2 x86_64)\n",
        "\n",
        " * Documentation:  https://help.ubuntu.com\n",
        " * Management:     https://landscape.canonical.com\n",
        " * Support:        https://ubuntu.com/pro\n",
        "\n",
        " System information as of Sat Sep 20 16:27:17 UTC 2025\n",
        "\n",
        "  System load:  0.08                Processes:             56\n",
        "  Usage of /:   0.3% of 1006.85GB   Users logged in:       2\n",
        "  Memory usage: 45%                 IPv4 address for eth0: 172.27.131.20\n",
        "  Swap usage:   0%\n",
        "\n",
        " * Strictly confined Kubernetes makes edge and IoT secure. Learn how MicroK8s\n",
        "   just raised the bar for easy, resilient and secure K8s cluster deployment.\n",
        "\n",
        "   https://ubuntu.com/engage/secure-kubernetes-at-the-edge\n",
        "\n",
        "This message is shown once a day. To disable it please create the\n",
        "/home/p1/.hushlogin file.\n",
        "$ touch testfile\n",
        "$ ls -l testfile\n",
        "-rw-r--r-- 1 p1 g1 0 Sep 20 16:28 testfile\n",
        "$\n"
      ],
      "metadata": {
        "id": "-Utty-6v8dGi"
      },
      "execution_count": null,
      "outputs": []
    },
    {
      "cell_type": "markdown",
      "source": [
        "**7. Step1: Create directory /tmp/bg as root user and create files inside it.**\n",
        "\n",
        "  **Step2: “abhi” should be the owner of the directory. He should be able to create files and delete files inside the directory and also he should be able to add content to all files inside the directory.**"
      ],
      "metadata": {
        "id": "Wrju3MFZ9Tjy"
      }
    },
    {
      "cell_type": "code",
      "source": [
        "psuman@Suman:/mnt/c/Users/psuma$ id abhi\n",
        "uid=1007(abhi) gid=1010(abhi) groups=1010(abhi)\n",
        "psuman@Suman:/mnt/c/Users/psuma$ sudo mkdir -p /tmp/bg\n",
        "psuman@Suman:/mnt/c/Users/psuma$ sudo chown -R abhi:abhi /tmp/bg\n",
        "psuman@Suman:/mnt/c/Users/psuma$ sudo chmod 700 /tmp/bg\n",
        "psuman@Suman:/mnt/c/Users/psuma$ sudo -u abhi touch /tmp/bg file1.txt file2.txt\n",
        "psuman@Suman:/mnt/c/Users/psuma$ sudo chown -R abhi:abhi /tmp/bg\n",
        "psuman@Suman:/mnt/c/Users/psuma$ sudo chmod 644 /tmp/bg/*\n",
        "psuman@Suman:/mnt/c/Users/psuma$ su - abhi\n",
        "Password:\n",
        "$ chmod 644 /tmp/bg/*\n",
        "$ ls -l /tmp/bg\n",
        "total 0\n",
        "-rw-r--r-- 1 abhi abhi 0 Sep 20 17:52 file1\n",
        "-rw-r--r-- 1 abhi abhi 0 Sep 20 17:47 file1.txt\n",
        "-rw-r--r-- 1 abhi abhi 0 Sep 20 17:52 file2\n",
        "-rw-r--r-- 1 abhi abhi 0 Sep 20 17:47 file2.txt\n",
        "-rw-r--r-- 1 abhi abhi 0 Sep 20 17:52 file3\n",
        "$\n",
        "\n"
      ],
      "metadata": {
        "id": "aq3884Vs9yuF"
      },
      "execution_count": null,
      "outputs": []
    },
    {
      "cell_type": "markdown",
      "source": [
        "**8. You suspect that a particular process is consuming excessive CPU resources on your Linux server. How\n",
        "would you identify and terminate this process?**\n",
        "\n",
        "\n",
        "To identify and terminate a process consuming excessive CPU resources on your Linux server, you can follow these steps:\n",
        "\n",
        "**1. Identify the process:**\n",
        "\n",
        "Use the top command: This command provides a dynamic, real-time view of system processes. By default, it sorts processes by CPU usage. You can see the process ID (PID), CPU usage (%), memory usage (%), and other information.\n",
        "Use the htop command: htop is an interactive process viewer that is often considered more user-friendly than top. It also shows processes sorted by CPU usage and allows for easy navigation and actions. You might need to install it (sudo apt-get install htop or sudo yum install htop).\n",
        "\n",
        "**2. Terminate the process:**\n",
        "\n",
        "Once you have identified the PID of the process you want to terminate, you can use the kill command:\n",
        "\n",
        "kill PID: This sends a graceful termination signal (SIGTERM) to the process. The process can catch this signal and shut down cleanly.\n",
        "\n",
        "**using top and kill:**\n",
        "\n",
        "**Open your terminal**.\n",
        "1. Run the command top.\n",
        "2 .Observe the processes listed and identify the PID of the process with high CPU usage.\n",
        "3. Press q to exit top.\n",
        "4. Run the command kill PID (replace PID with the\n",
        "5. actual process ID) to attempt a graceful termination.\n",
        "6. If the process doesn't terminate, use kill -9 PID for a forceful termination.\n"
      ],
      "metadata": {
        "id": "mSO6Y3O2V5g6"
      }
    }
  ]
}